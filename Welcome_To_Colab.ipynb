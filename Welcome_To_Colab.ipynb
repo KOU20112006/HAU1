{
  "cells": [
    {
      "cell_type": "markdown",
      "metadata": {
        "id": "view-in-github",
        "colab_type": "text"
      },
      "source": [
        "<a href=\"https://colab.research.google.com/github/KOU20112006/HAU1/blob/main/Welcome_To_Colab.ipynb\" target=\"_parent\"><img src=\"https://colab.research.google.com/assets/colab-badge.svg\" alt=\"Open In Colab\"/></a>"
      ]
    },
    {
      "cell_type": "code",
      "source": [
        "def calculate_bmi(weight, height):\n",
        "    if height == 0:\n",
        "        return None, \"Invalid height: cannot be zero\"\n",
        "    bmi = weight / (height ** 2)\n",
        "    if bmi < 18.5:\n",
        "        category = \"Underweight\"\n",
        "    elif bmi < 25:\n",
        "        category = \"Healthy weight\"\n",
        "    elif bmi < 30:\n",
        "        category = \"Overweight\"\n",
        "    else:\n",
        "        category = \"Obesity\"\n",
        "\n",
        "    return bmi, category\n",
        "\n",
        "weight = float(input(\"Enter weight in kg: \").replace(',', '.'))\n",
        "height = float(input(\"Enter height in meters: \").replace(',', '.'))\n",
        "\n",
        "if height == 0:\n",
        "    print(\"Error: Height cannot be zero.\")\n",
        "else:\n",
        "    bmi, category = calculate_bmi(weight, height)\n",
        "    print(f\"Your BMI is {bmi:.2f}, which falls within the {category} range.\")\n"
      ],
      "metadata": {
        "id": "Ky_fKuTel-RN",
        "outputId": "cd691479-95c1-4c0d-82c1-a704f95fc008",
        "colab": {
          "base_uri": "https://localhost:8080/"
        }
      },
      "execution_count": 15,
      "outputs": [
        {
          "output_type": "stream",
          "name": "stdout",
          "text": [
            "Enter weight in kg: 70\n",
            "Enter height in meters: 1.8\n",
            "Your BMI is 21.60, which falls within the Healthy weight range.\n"
          ]
        }
      ]
    },
    {
      "cell_type": "code",
      "source": [
        "def converts_temperature():\n",
        "  unit = input(\"Enter the unit of temperature (C or F): \").upper()\n",
        "  if unit == \"C\":\n",
        "    celsius = float(input(\"Enter the temperature in Celsius: \"))\n",
        "    fahrenheit = (celsius * 9/5) + 32\n",
        "    print(f\"{celsius} degrees Celsius is equal to {fahrenheit} degrees Fahrenheit.\")\n",
        "  elif unit == \"F\":\n",
        "\n",
        "    fahrenheit = float(input(\"Enter the temperature in Fahrenheit: \"))\n",
        "    celsius = (fahrenheit - 32) * 5/9\n",
        "    print(f\"{fahrenheit} degrees Fahrenheit is equal to {celsius} degrees Celsius.\")\n",
        "  else:\n",
        "    print(\"Invalid unit. Please enter C or F.\")\n",
        "\n",
        "converts_temperature()"
      ],
      "metadata": {
        "id": "N2H1pUYFowRq",
        "outputId": "130de861-cf78-4151-f5be-82df47a205a0",
        "colab": {
          "base_uri": "https://localhost:8080/"
        }
      },
      "execution_count": 32,
      "outputs": [
        {
          "output_type": "stream",
          "name": "stdout",
          "text": [
            "Enter the unit of temperature (C or F): c\n",
            "Enter the temperature in Celsius: 25\n",
            "25.0 degrees Celsius is equal to 77.0 degrees Fahrenheit.\n"
          ]
        }
      ]
    },
    {
      "cell_type": "code",
      "source": [
        "def converts_temperature():\n",
        "  fahrenheit = float(input(\"Enter the temperature in Fahrenheit: \"))\n",
        "  unit = input(\"Enter the unit of temperature (C or F): \").upper()\n",
        "  if unit == \"C\":\n",
        "    # celsius = float(input(\"Enter the temperature in Celsius: \"))\n",
        "    fahrenheit = (celsius * 9/5) + 32\n",
        "    print(f\"{celsius} degrees Celsius is equal to {fahrenheit} degrees Fahrenheit.\")\n",
        "  elif unit == \"F\":\n",
        "    # fahrenheit = float(input(\"Enter the temperature in Fahrenheit: \"))\n",
        "    celsius = (fahrenheit - 32) * 5/9\n",
        "    print(f\"{fahrenheit} degrees Fahrenheit is equal to {celsius} degrees Celsius.\")\n",
        "  else:\n",
        "    print(\"Invalid unit. Please enter C or F.\")\n",
        "\n",
        "converts_temperature()"
      ],
      "metadata": {
        "id": "6QJtAXhVrc5-",
        "outputId": "5ad7de46-b5e2-4f97-f5d6-9039ef9f68c3",
        "colab": {
          "base_uri": "https://localhost:8080/"
        }
      },
      "execution_count": 36,
      "outputs": [
        {
          "output_type": "stream",
          "name": "stdout",
          "text": [
            "Enter the temperature in Fahrenheit: 25\n",
            "Enter the unit of temperature (C or F): f\n",
            "25.0 degrees Fahrenheit is equal to -3.888888888888889 degrees Celsius.\n"
          ]
        }
      ]
    },
    {
      "cell_type": "code",
      "source": [
        "def calculator(num1, num2, operator):\n",
        "    if operator == '+':\n",
        "        result = num1 + num2\n",
        "        print(f\"Result: {num1} + {num2} = {result}\")\n",
        "        return result\n",
        "    elif operator == '-':\n",
        "        result = num1 - num2\n",
        "        print(f\"Result: {num1} - {num2} = {result}\")\n",
        "    elif operator == '*':\n",
        "        result = num1 * num2\n",
        "        print(f\"Result: {num1} * {num2} = {result}\")\n",
        "    elif operator == '/':\n",
        "            print(f\"Result: {num1} / {num2} = {result}\")\n",
        "    else:\n",
        "           return \"Invalid operator\"\n",
        "\n",
        "calculator(6,8,'+')\n",
        "\n",
        ""
      ],
      "metadata": {
        "id": "cNcUPltBuynf",
        "outputId": "015841fb-e04f-4f4f-c1e5-1872d68272e8",
        "colab": {
          "base_uri": "https://localhost:8080/"
        }
      },
      "execution_count": 43,
      "outputs": [
        {
          "output_type": "stream",
          "name": "stdout",
          "text": [
            "Result: 6 + 8 = 14\n"
          ]
        },
        {
          "output_type": "execute_result",
          "data": {
            "text/plain": [
              "14"
            ]
          },
          "metadata": {},
          "execution_count": 43
        }
      ]
    },
    {
      "cell_type": "code",
      "source": [
        "import random\n",
        "\n",
        "def coin_toss():\n",
        "    try:\n",
        "        prob_head = float(input(\"Enter the probability of heads (between 0 and 1): \"))\n",
        "        if not 0 <= prob_head <= 1:\n",
        "            print(\"Probability must be between 0 and 1.\")\n",
        "            return\n",
        "\n",
        "        toss = random.random()  # Generates a float between 0 and 1\n",
        "        print(\"toss from random : \", toss)\n",
        "        if toss < prob_head:\n",
        "            result = \"heads\"\n",
        "        else:\n",
        "            result = \"tails\"\n",
        "\n",
        "        print(f\"The result of the coin toss is: {result}\")\n",
        "        return result\n",
        "\n",
        "    except ValueError:\n",
        "        print(\"Invalid input. Please enter a number between 0 and 1.\")\n",
        "\n",
        "coin_toss()"
      ],
      "metadata": {
        "id": "6oO1TJzQ1M7f",
        "outputId": "de126817-c295-4c63-81a3-1ad49f6c4e4d",
        "colab": {
          "base_uri": "https://localhost:8080/",
          "height": 90
        }
      },
      "execution_count": 44,
      "outputs": [
        {
          "output_type": "stream",
          "name": "stdout",
          "text": [
            "Enter the probability of heads (between 0 and 1): 1\n",
            "toss from random :  0.32674967960218104\n",
            "The result of the coin toss is: heads\n"
          ]
        },
        {
          "output_type": "execute_result",
          "data": {
            "text/plain": [
              "'heads'"
            ],
            "application/vnd.google.colaboratory.intrinsic+json": {
              "type": "string"
            }
          },
          "metadata": {},
          "execution_count": 44
        }
      ]
    }
  ],
  "metadata": {
    "colab": {
      "name": "Welcome To Colab",
      "toc_visible": true,
      "provenance": [],
      "include_colab_link": true
    },
    "kernelspec": {
      "display_name": "Python 3",
      "name": "python3"
    }
  },
  "nbformat": 4,
  "nbformat_minor": 0
}