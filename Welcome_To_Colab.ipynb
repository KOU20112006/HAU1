{
  "cells": [
    {
      "cell_type": "markdown",
      "metadata": {
        "id": "view-in-github",
        "colab_type": "text"
      },
      "source": [
        "<a href=\"https://colab.research.google.com/github/KOU20112006/HAU1/blob/main/Welcome_To_Colab.ipynb\" target=\"_parent\"><img src=\"https://colab.research.google.com/assets/colab-badge.svg\" alt=\"Open In Colab\"/></a>"
      ]
    },
    {
      "cell_type": "code",
      "source": [
        "import statistics\n",
        "\n",
        "def calculate_statistics():\n",
        "    while True:\n",
        "        try:\n",
        "            # Nhận 3 số từ người dùng\n",
        "            numbers = list(map(float, input(\"Nhập 3 số khác nhau, cách nhau bởi dấu cách: \").split()))\n",
        "\n",
        "            # Kiểm tra nếu không đủ 3 số hoặc có số trùng lặp\n",
        "            if len(numbers) != 3 or len(set(numbers)) != 3:\n",
        "                raise ValueError(\"Bạn phải nhập đúng 3 số khác nhau!\")\n",
        "\n",
        "            # Tính toán các giá trị cần thiết\n",
        "            average = sum(numbers) / len(numbers)\n",
        "            median_value = statistics.median(numbers)\n",
        "            value_range = max(numbers) - min(numbers)\n",
        "\n",
        "            # In kết quả\n",
        "            print(f\"Trung bình: {average}\")\n",
        "            print(f\"Trung vị: {median_value}\")\n",
        "            print(f\"Phạm vi: {value_range}\")\n",
        "            break  # Thoát vòng lặp nếu nhập hợp lệ\n",
        "\n",
        "        except ValueError as e:\n",
        "            print(f\"Lỗi: {e}. Vui lòng nhập lại 3 số hợp lệ.\")\n",
        "\n",
        "# Gọi hàm để kiểm tra\n",
        "calculate_statistics()"
      ],
      "metadata": {
        "colab": {
          "base_uri": "https://localhost:8080/"
        },
        "id": "HVietvxhkibA",
        "outputId": "cb30ce8e-4594-4529-a75a-a6f77ab34a1b"
      },
      "execution_count": null,
      "outputs": [
        {
          "output_type": "stream",
          "name": "stdout",
          "text": [
            "Nhập 3 số khác nhau, cách nhau bởi dấu cách: 10 20 30\n",
            "Trung bình: 20.0\n",
            "Trung vị: 20.0\n",
            "Phạm vi: 20.0\n"
          ]
        }
      ]
    },
    {
      "cell_type": "code",
      "source": [
        "\n",
        "num = float(input(\"Enter a number: \"))\n",
        "if num > 0:\n",
        "    print(\"1.\")\n",
        "elif num < 0:\n",
        "    print(\"-1.\")\n",
        "else:\n",
        "    print(\"0.\")\n"
      ],
      "metadata": {
        "colab": {
          "base_uri": "https://localhost:8080/"
        },
        "id": "fQsAXSjKUxNj",
        "outputId": "6ee02271-633c-4089-925c-97445c3c378b"
      },
      "execution_count": null,
      "outputs": [
        {
          "output_type": "stream",
          "name": "stdout",
          "text": [
            "1,0,-1: 1\n",
            "1.\n"
          ]
        }
      ]
    },
    {
      "cell_type": "code",
      "source": [
        "\n",
        "num = int(input(\"1'2'3'4'5'6'7'8'9': \"))\n",
        "if num % 2 == 0:\n",
        "    print(f\"{num} 2'4'6'8.\")\n",
        "else:\n",
        "    print(f\"{num} 1'3'5'7'9'.\")\n"
      ],
      "metadata": {
        "colab": {
          "base_uri": "https://localhost:8080/"
        },
        "id": "QO5myhzNTDUO",
        "outputId": "a126693e-684b-45eb-f5d8-e16cede1c9a6"
      },
      "execution_count": null,
      "outputs": [
        {
          "output_type": "stream",
          "name": "stdout",
          "text": [
            "1'2'3'4'5'6'7'8'9': 2\n",
            "2 2'4'6'8.\n"
          ]
        }
      ]
    },
    {
      "cell_type": "code",
      "source": [
        "\n",
        "num1 = float(input(\"1: \"))\n",
        "num2 = float(input(\"2: \"))\n",
        "num3 = float(input(\"3: \"))\n",
        "largest = max(num1, num2, num3)\n",
        "print(f\"The largest number is: {3}\")\n"
      ],
      "metadata": {
        "colab": {
          "base_uri": "https://localhost:8080/"
        },
        "id": "ayP6kxguTDJ9",
        "outputId": "1a32a5da-f480-4fb3-ac1e-a2b2c06956f5"
      },
      "execution_count": null,
      "outputs": [
        {
          "output_type": "stream",
          "name": "stdout",
          "text": [
            "1: 3\n",
            "2: 1\n",
            "3: 2\n",
            "The largest number is: 3\n"
          ]
        }
      ]
    }
  ],
  "metadata": {
    "colab": {
      "name": "Welcome To Colab",
      "toc_visible": true,
      "provenance": [],
      "include_colab_link": true
    },
    "kernelspec": {
      "display_name": "Python 3",
      "name": "python3"
    }
  },
  "nbformat": 4,
  "nbformat_minor": 0
}