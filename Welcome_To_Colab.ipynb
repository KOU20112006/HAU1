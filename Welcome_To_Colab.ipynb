{
  "cells": [
    {
      "cell_type": "markdown",
      "metadata": {
        "id": "view-in-github",
        "colab_type": "text"
      },
      "source": [
        "<a href=\"https://colab.research.google.com/github/KOU20112006/HAU1/blob/main/Welcome_To_Colab.ipynb\" target=\"_parent\"><img src=\"https://colab.research.google.com/assets/colab-badge.svg\" alt=\"Open In Colab\"/></a>"
      ]
    },
    {
      "cell_type": "code",
      "source": [
        "numbers = (1, 2, 3, 4, 5, 6, 7, 8 , 9, 10)\n",
        "new_numbers = \" \".join(map(str, numbers))\n",
        "print(new_numbers)"
      ],
      "metadata": {
        "id": "Lp0aAbppZXPk",
        "outputId": "d81eac5b-9a6d-4608-923c-9373c7ebbef1",
        "colab": {
          "base_uri": "https://localhost:8080/"
        }
      },
      "execution_count": 1,
      "outputs": [
        {
          "output_type": "stream",
          "name": "stdout",
          "text": [
            "1 2 3 4 5 6 7 8 9 10\n"
          ]
        }
      ]
    },
    {
      "cell_type": "code",
      "source": [
        "for numbers in range(1, 10):\n",
        "    print(numbers, end=\" \")"
      ],
      "metadata": {
        "id": "bClfj_44ZXJ8",
        "outputId": "fe67f69a-5087-4bfc-951a-29baef04a7f3",
        "colab": {
          "base_uri": "https://localhost:8080/"
        }
      },
      "execution_count": 2,
      "outputs": [
        {
          "output_type": "stream",
          "name": "stdout",
          "text": [
            "1 2 3 4 5 6 7 8 9 "
          ]
        }
      ]
    },
    {
      "cell_type": "code",
      "source": [
        "numbers = [1, 2, 3, 4, 5, 6, 7, 8 , 9, 10]\n",
        "print(\"\\nFirst element:\", numbers[0])\n",
        "numbers[1] = 10\n",
        "print(numbers)\n",
        "if 5 in numbers:\n",
        "    print(\"5 is in the list.\")\n",
        "else:\n",
        "    print(\"5 is not in the list.\")\n"
      ],
      "metadata": {
        "id": "qXdP69oZZXCo",
        "outputId": "a9c610c5-4252-498e-9b1d-9a89675c01e6",
        "colab": {
          "base_uri": "https://localhost:8080/"
        }
      },
      "execution_count": 10,
      "outputs": [
        {
          "output_type": "stream",
          "name": "stdout",
          "text": [
            "\n",
            "First element: 1\n",
            "[1, 10, 3, 4, 5, 6, 7, 8, 9, 10]\n",
            "5 is in the list.\n"
          ]
        }
      ]
    },
    {
      "cell_type": "code",
      "source": [
        "with open(\"numbers.txt\", \"w\") as file:\n",
        "    file.write(\"11\")"
      ],
      "metadata": {
        "id": "3MqVhXoahtM5"
      },
      "execution_count": 21,
      "outputs": []
    },
    {
      "cell_type": "code",
      "source": [
        "with open(\"numbers.txt\", \"r\") as file:\n",
        "    numbers = file.read()\n",
        "    print(numbers)"
      ],
      "metadata": {
        "id": "F0sIRK64htDv",
        "outputId": "73f085a9-6137-47a4-e0bc-4a7d7df542e3",
        "colab": {
          "base_uri": "https://localhost:8080/"
        }
      },
      "execution_count": 22,
      "outputs": [
        {
          "output_type": "stream",
          "name": "stdout",
          "text": [
            "11\n"
          ]
        }
      ]
    }
  ],
  "metadata": {
    "colab": {
      "name": "Welcome To Colab",
      "provenance": [],
      "include_colab_link": true
    },
    "kernelspec": {
      "display_name": "Python 3",
      "name": "python3"
    }
  },
  "nbformat": 4,
  "nbformat_minor": 0
}