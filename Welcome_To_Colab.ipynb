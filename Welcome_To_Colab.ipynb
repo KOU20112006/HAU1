{
  "cells": [
    {
      "cell_type": "markdown",
      "metadata": {
        "id": "view-in-github",
        "colab_type": "text"
      },
      "source": [
        "<a href=\"https://colab.research.google.com/github/KOU20112006/HAU1/blob/main/Welcome_To_Colab.ipynb\" target=\"_parent\"><img src=\"https://colab.research.google.com/assets/colab-badge.svg\" alt=\"Open In Colab\"/></a>"
      ]
    },
    {
      "cell_type": "code",
      "source": [
        "\n",
        "num = float(input(\"Enter a number: \"))\n",
        "if num > 0:\n",
        "    print(\"1.\")\n",
        "elif num < 0:\n",
        "    print(\"-1.\")\n",
        "else:\n",
        "    print(\"0.\")\n"
      ],
      "metadata": {
        "id": "fQsAXSjKUxNj",
        "outputId": "6ee02271-633c-4089-925c-97445c3c378b",
        "colab": {
          "base_uri": "https://localhost:8080/"
        }
      },
      "execution_count": 7,
      "outputs": [
        {
          "output_type": "stream",
          "name": "stdout",
          "text": [
            "1,0,-1: 1\n",
            "1.\n"
          ]
        }
      ]
    },
    {
      "cell_type": "code",
      "source": [
        "\n",
        "num = int(input(\"1'2'3'4'5'6'7'8'9': \"))\n",
        "if num % 2 == 0:\n",
        "    print(f\"{num} 2'4'6'8.\")\n",
        "else:\n",
        "    print(f\"{num} 1'3'5'7'9'.\")\n"
      ],
      "metadata": {
        "id": "QO5myhzNTDUO",
        "outputId": "a126693e-684b-45eb-f5d8-e16cede1c9a6",
        "colab": {
          "base_uri": "https://localhost:8080/"
        }
      },
      "execution_count": 1,
      "outputs": [
        {
          "output_type": "stream",
          "name": "stdout",
          "text": [
            "1'2'3'4'5'6'7'8'9': 2\n",
            "2 2'4'6'8.\n"
          ]
        }
      ]
    },
    {
      "cell_type": "code",
      "source": [
        "\n",
        "num1 = float(input(\"1: \"))\n",
        "num2 = float(input(\"2: \"))\n",
        "num3 = float(input(\"3: \"))\n",
        "largest = max(num1, num2, num3)\n",
        "print(f\"The largest number is: {3}\")\n"
      ],
      "metadata": {
        "id": "ayP6kxguTDJ9",
        "outputId": "1a32a5da-f480-4fb3-ac1e-a2b2c06956f5",
        "colab": {
          "base_uri": "https://localhost:8080/"
        }
      },
      "execution_count": 2,
      "outputs": [
        {
          "output_type": "stream",
          "name": "stdout",
          "text": [
            "1: 3\n",
            "2: 1\n",
            "3: 2\n",
            "The largest number is: 3\n"
          ]
        }
      ]
    }
  ],
  "metadata": {
    "colab": {
      "name": "Welcome To Colab",
      "toc_visible": true,
      "provenance": [],
      "include_colab_link": true
    },
    "kernelspec": {
      "display_name": "Python 3",
      "name": "python3"
    }
  },
  "nbformat": 4,
  "nbformat_minor": 0
}